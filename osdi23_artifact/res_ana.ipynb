{
 "cells": [
  {
   "cell_type": "code",
   "execution_count": 1,
   "metadata": {},
   "outputs": [],
   "source": [
    "import sys\n",
    "sys.path.append(\"/home/rongyuan/WorkSpace/DLInference/mms/alpa_serve/placement_policy\")\n",
    "from collections import namedtuple\n",
    "from base_policy import ModelPlacement, ModelPlacementWithReplacement\n",
    "ParallelConfig = namedtuple(\"ParallelConfig\", (\"dp\", \"op\", \"pp\"))"
   ]
  },
  {
   "cell_type": "code",
   "execution_count": 1,
   "metadata": {},
   "outputs": [],
   "source": [
    "file_path = \"log.txt\"\n",
    "with open(file_path, 'r') as f:\n",
    "    lines = f.readlines()"
   ]
  },
  {
   "cell_type": "code",
   "execution_count": 11,
   "metadata": {},
   "outputs": [
    {
     "name": "stdout",
     "output_type": "stream",
     "text": [
      "sr-greedy avg solver time is: 4.201111111111111\n",
      "mp-search avg solver time is: 26.326296296296288\n",
      "sr-replace avg solver time is: 21.273124999999997\n"
     ]
    }
   ],
   "source": [
    "time_dict = {\"sr-greedy\":[], \"mp-search\":[], \"sr-replace\":[]}\n",
    "\n",
    "times = []\n",
    "for i in range[2]:\n",
    "    file_path = f\"log{i}.txt\"\n",
    "    with open(file_path, 'r') as f:\n",
    "        lines = f.readlines()\n",
    "    for line in lines:\n",
    "        if \"solver time\" in line:\n",
    "            info = line.split(' ')\n",
    "            idx = info.index(\"solver\") - 1\n",
    "            policy = info[idx]\n",
    "            if \"sr-replace\" in policy:\n",
    "                policy = \"sr-replace\"\n",
    "            solver_time = float(info[info.index(\"time:\") + 1])\n",
    "            # print(policy, solver_time)\n",
    "            times.append(solver_time)\n",
    "\n",
    "def avg_time(time_list: list):\n",
    "    return sum(time_list) / len(time_list)\n",
    "print(avg_time(times))\n",
    "\n",
    "# for policy in time_dict.keys():\n",
    "#     print(f\"{policy} avg solver time is: {avg_time(time_dict[policy])}\")"
   ]
  }
 ],
 "metadata": {
  "kernelspec": {
   "display_name": "alphaserve",
   "language": "python",
   "name": "python3"
  },
  "language_info": {
   "codemirror_mode": {
    "name": "ipython",
    "version": 3
   },
   "file_extension": ".py",
   "mimetype": "text/x-python",
   "name": "python",
   "nbconvert_exporter": "python",
   "pygments_lexer": "ipython3",
   "version": "3.10.14"
  }
 },
 "nbformat": 4,
 "nbformat_minor": 2
}
